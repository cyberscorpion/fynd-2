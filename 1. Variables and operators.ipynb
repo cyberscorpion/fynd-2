{
 "cells": [
  {
   "cell_type": "markdown",
   "id": "8c079993-c557-4e69-986a-1cdb369b733c",
   "metadata": {},
   "source": [
    "# Welcome to python class"
   ]
  },
  {
   "cell_type": "code",
   "execution_count": 18,
   "id": "0d520092-f451-4f61-b9ee-79969ceda161",
   "metadata": {},
   "outputs": [
    {
     "name": "stdout",
     "output_type": "stream",
     "text": [
      "Hello world\n"
     ]
    }
   ],
   "source": [
    "print(\"Hello world\")"
   ]
  },
  {
   "cell_type": "code",
   "execution_count": 6,
   "id": "45656129-43a0-40f0-8f96-94ed07e1cd25",
   "metadata": {},
   "outputs": [
    {
     "name": "stdout",
     "output_type": "stream",
     "text": [
      "38\n"
     ]
    }
   ],
   "source": [
    "print(34 + 4)"
   ]
  },
  {
   "cell_type": "code",
   "execution_count": 12,
   "id": "1cf0d6e7-d90d-4455-b460-249e4b94e160",
   "metadata": {},
   "outputs": [
    {
     "name": "stdout",
     "output_type": "stream",
     "text": [
      "36\n"
     ]
    }
   ],
   "source": [
    "print(12 * 3)"
   ]
  },
  {
   "cell_type": "markdown",
   "id": "9c1a0b6c-621d-47c3-b65d-ace7a0de4cf5",
   "metadata": {},
   "source": [
    "### Variables"
   ]
  },
  {
   "cell_type": "code",
   "execution_count": 1,
   "id": "88e404fb-76ee-47d2-b609-c86157fd8781",
   "metadata": {},
   "outputs": [
    {
     "name": "stdout",
     "output_type": "stream",
     "text": [
      "3\n"
     ]
    }
   ],
   "source": [
    "x = 3\n",
    "print(x)"
   ]
  },
  {
   "cell_type": "code",
   "execution_count": 5,
   "id": "23603450-e80b-46d0-a246-d69a55c1e68d",
   "metadata": {},
   "outputs": [
    {
     "name": "stdout",
     "output_type": "stream",
     "text": [
      "15\n"
     ]
    }
   ],
   "source": [
    "print( 4 * x + 3)"
   ]
  },
  {
   "cell_type": "code",
   "execution_count": 7,
   "id": "28f0c391-baf0-4da9-96ef-51b50b7b8eea",
   "metadata": {},
   "outputs": [
    {
     "name": "stdout",
     "output_type": "stream",
     "text": [
      "19\n"
     ]
    }
   ],
   "source": [
    "x = 4\n",
    "print(4 * x + 3)"
   ]
  },
  {
   "cell_type": "markdown",
   "id": "d51e3226-a679-4acf-9016-4c6aab9f6a6a",
   "metadata": {},
   "source": [
    "Defining a variable in Python is straightforward, but there are some rules you need to follow:\r\n",
    "\r\n",
    "Start with a letter or underscore: A variable name must begin with a letter (a-z, A-Z) or an underscore (_).\r\n",
    "No starting with a number: A variable name cannot start with a number (0-9).\r\n",
    "Use only alphanumeric characters and underscores: Variable names can only contain letters, numbers, and underscores (A-z, 0-9, and _).\r\n",
    "Case-sensitive: Variable names are case-sensitive, so name, Name, and NAME are considered different variables.\r\n",
    "Avoid reserved words: You cannot use Python’s reserved keywords (like class, for, if, etc.) as variable names."
   ]
  },
  {
   "cell_type": "code",
   "execution_count": null,
   "id": "2fd743f4-cbb9-4e9d-a459-9e82b6e3c92a",
   "metadata": {},
   "outputs": [],
   "source": [
    "# Valid variable names\n",
    "my_variable = 10\n",
    "_myVariable = 20\n",
    "myVariable2 = 30\n",
    "\n",
    "# Invalid variable names\n",
    "2myVariable = 40  # Starts with a number\n",
    "my-variable = 50  # Contains a hyphen\n",
    "class = 60        # Uses a reserved keyword"
   ]
  },
  {
   "cell_type": "markdown",
   "id": "135eb57c-123f-437f-abf6-e3b8cdd86028",
   "metadata": {},
   "source": [
    "### Reserved Keywords"
   ]
  },
  {
   "cell_type": "markdown",
   "id": "63de0f1f-9439-4765-b046-afd267d89831",
   "metadata": {},
   "source": [
    "In Python, reserved keywords are words that have special meanings and cannot be used as variable names, function names, or any other identifiers. Here is a list of Python’s reserved keywords:\n",
    "\n",
    "False\n",
    "None\n",
    "True\n",
    "and\n",
    "as\n",
    "assert\n",
    "async\n",
    "await\n",
    "break\n",
    "class\n",
    "continue\n",
    "def\n",
    "del\n",
    "elif\n",
    "else\n",
    "except\n",
    "finally\n",
    "for\n",
    "from\n",
    "global\n",
    "if\n",
    "import\n",
    "in\n",
    "is\n",
    "lambda\n",
    "nonlocal\n",
    "not\n",
    "or\n",
    "pass\n",
    "raise\n",
    "return\n",
    "try\n",
    "while\n",
    "with\n",
    "yield\n",
    "These keywords are integral to the syntax and structure of Python12. If you try to use any of these as identifiers, you’ll get a syntax error.\n"
   ]
  },
  {
   "cell_type": "code",
   "execution_count": 16,
   "id": "9deb65e5-39ad-4f63-a0a0-ce359a3e911e",
   "metadata": {},
   "outputs": [],
   "source": [
    "a, b, c = 4, 3 ,5"
   ]
  },
  {
   "cell_type": "code",
   "execution_count": 18,
   "id": "1bf6595d-c0eb-454b-add5-a08a2c739e52",
   "metadata": {},
   "outputs": [
    {
     "name": "stdout",
     "output_type": "stream",
     "text": [
      "4\n",
      "3\n",
      "5\n"
     ]
    }
   ],
   "source": [
    "print(a)\n",
    "print(b)\n",
    "print(c)"
   ]
  },
  {
   "cell_type": "code",
   "execution_count": 20,
   "id": "e29a65ea-ddfe-4952-93e6-6724ed9c61ff",
   "metadata": {},
   "outputs": [
    {
     "name": "stdout",
     "output_type": "stream",
     "text": [
      "4 3 5\n"
     ]
    }
   ],
   "source": [
    "print(a, b, c)"
   ]
  },
  {
   "cell_type": "code",
   "execution_count": 46,
   "id": "17e07f90-6e98-4698-ad88-7a25033fec39",
   "metadata": {},
   "outputs": [
    {
     "name": "stdout",
     "output_type": "stream",
     "text": [
      "Hello...WorldRajat\n"
     ]
    }
   ],
   "source": [
    "# How to end statement with custom string\n",
    "print(\"Hello\", end=\" \") # here print is ending with space\n",
    "print(\"World\")\n",
    "print(\"Rajat\")"
   ]
  },
  {
   "cell_type": "code",
   "execution_count": 66,
   "id": "fd60aa18-4262-4cd8-85ad-082e36f883d5",
   "metadata": {},
   "outputs": [
    {
     "name": "stdout",
     "output_type": "stream",
     "text": [
      "Hello...World...Rajat !\n"
     ]
    }
   ],
   "source": [
    "print(\"Hello\", \"World\", \"Rajat\", sep = \"...\", end=\" \")\n",
    "print(\"!\")"
   ]
  },
  {
   "cell_type": "code",
   "execution_count": 72,
   "id": "3d0ef310-68d2-4430-a26e-067bf674110e",
   "metadata": {},
   "outputs": [
    {
     "name": "stdin",
     "output_type": "stream",
     "text": [
      "Enter you input here:  dfd\n"
     ]
    },
    {
     "name": "stdout",
     "output_type": "stream",
     "text": [
      "User has provided input: dfd\n"
     ]
    }
   ],
   "source": [
    "user_input = input(\"Enter you input here: \")\n",
    "\n",
    "print(\"User has provided input:\", user_input)"
   ]
  },
  {
   "cell_type": "markdown",
   "id": "d7471725-6028-4bb1-b79c-2eedc8677765",
   "metadata": {},
   "source": [
    "## Data types in python"
   ]
  },
  {
   "cell_type": "code",
   "execution_count": 77,
   "id": "04ee86dc-4812-485f-8e8c-c6efdf7ccf53",
   "metadata": {},
   "outputs": [
    {
     "name": "stdout",
     "output_type": "stream",
     "text": [
      "<class 'int'>\n",
      "<class 'float'>\n",
      "<class 'str'>\n",
      "<class 'str'>\n",
      "<class 'bool'>\n"
     ]
    }
   ],
   "source": [
    "a = 34\n",
    "b = 2.45\n",
    "c = \"Hello\"\n",
    "d = 'd'\n",
    "e = True\n",
    "print(type(a))\n",
    "print(type(b))\n",
    "print(type(c))\n",
    "print(type(d))\n",
    "print(type(e))"
   ]
  },
  {
   "cell_type": "code",
   "execution_count": 81,
   "id": "47cb7239-5c09-433a-95b8-04434d733b69",
   "metadata": {},
   "outputs": [
    {
     "name": "stdout",
     "output_type": "stream",
     "text": [
      "<class 'int'>\n"
     ]
    }
   ],
   "source": [
    "x = '34'\n",
    "y = 34\n"
   ]
  },
  {
   "cell_type": "code",
   "execution_count": 93,
   "id": "9c8a69f2-61ee-4506-9023-63a5af8aab68",
   "metadata": {},
   "outputs": [
    {
     "name": "stdout",
     "output_type": "stream",
     "text": [
      "3434.0\n",
      "<class 'float'>\n"
     ]
    }
   ],
   "source": [
    "x = \"3434\"\n",
    "converted_value = int(x)\n",
    "converted_value = float(x)\n",
    "print(converted_value)\n",
    "print(type(converted_value))"
   ]
  },
  {
   "cell_type": "code",
   "execution_count": 216,
   "id": "7ebac9c5-dd78-473c-9c93-52efe4ee500a",
   "metadata": {},
   "outputs": [
    {
     "name": "stdout",
     "output_type": "stream",
     "text": [
      "34\n",
      "<class 'str'>\n"
     ]
    }
   ],
   "source": [
    "s = 34\n",
    "ss = str(34)\n",
    "print(ss)\n",
    "print(type(ss))"
   ]
  },
  {
   "cell_type": "code",
   "execution_count": 99,
   "id": "81a2912e-27e4-440e-83ae-34b40d4386eb",
   "metadata": {},
   "outputs": [
    {
     "name": "stdout",
     "output_type": "stream",
     "text": [
      "Hello World\n"
     ]
    }
   ],
   "source": [
    "str1 = \"Hello\"\n",
    "str2 = \" World\"\n",
    "str3 = str1 + str2\n",
    "print(str3)"
   ]
  },
  {
   "cell_type": "markdown",
   "id": "10b19a1b-4b57-42d9-9e2c-380467542b30",
   "metadata": {},
   "source": [
    "### Operators in Python"
   ]
  },
  {
   "cell_type": "code",
   "execution_count": 108,
   "id": "4d7f07bb-258b-411d-a133-143458c335cf",
   "metadata": {},
   "outputs": [
    {
     "name": "stdout",
     "output_type": "stream",
     "text": [
      "Addition: 25\n",
      "Multiplication: 100\n"
     ]
    }
   ],
   "source": [
    "x = 5\n",
    "y = 20\n",
    "print(\"Addition:\", x + y)\n",
    "print(\"Multiplication:\", x * y)"
   ]
  },
  {
   "cell_type": "code",
   "execution_count": 114,
   "id": "c7c6a70e-de5b-415c-ba1c-f2dfd1e58da0",
   "metadata": {},
   "outputs": [
    {
     "name": "stdout",
     "output_type": "stream",
     "text": [
      "subtraction: -15\n"
     ]
    }
   ],
   "source": [
    "print(\"subtraction:\", x - y)"
   ]
  },
  {
   "cell_type": "code",
   "execution_count": 116,
   "id": "93e32b70-ae96-419c-8184-08ae36ba7e5d",
   "metadata": {},
   "outputs": [
    {
     "name": "stdout",
     "output_type": "stream",
     "text": [
      "Division: 0.25\n"
     ]
    }
   ],
   "source": [
    "print(\"Division:\", x / y)"
   ]
  },
  {
   "cell_type": "code",
   "execution_count": 122,
   "id": "088785c8-c7f8-4759-bb8e-ea8605d9ae93",
   "metadata": {},
   "outputs": [
    {
     "name": "stdout",
     "output_type": "stream",
     "text": [
      "Exponent: 8\n"
     ]
    }
   ],
   "source": [
    "print(\"Exponent:\", 2 ** 3)"
   ]
  },
  {
   "cell_type": "code",
   "execution_count": 124,
   "id": "30cb91b7-81ba-4341-9ea7-9c10389c9f08",
   "metadata": {},
   "outputs": [
    {
     "name": "stdout",
     "output_type": "stream",
     "text": [
      "Modulo: 1\n"
     ]
    }
   ],
   "source": [
    "print(\"Modulo:\", 9 % 2)"
   ]
  },
  {
   "cell_type": "code",
   "execution_count": 133,
   "id": "6f5d7370-479e-4fdd-855e-b400d5bed209",
   "metadata": {},
   "outputs": [
    {
     "name": "stdout",
     "output_type": "stream",
     "text": [
      "Integer Division: 8\n"
     ]
    }
   ],
   "source": [
    "print(\"Integer Division:\", 17 // 2)"
   ]
  },
  {
   "cell_type": "code",
   "execution_count": 128,
   "id": "344f8b53-f54c-44e4-ac55-c70f8bb6cfd2",
   "metadata": {},
   "outputs": [
    {
     "data": {
      "text/plain": [
       "8.5"
      ]
     },
     "execution_count": 128,
     "metadata": {},
     "output_type": "execute_result"
    }
   ],
   "source": [
    "17 / 2"
   ]
  },
  {
   "cell_type": "markdown",
   "id": "453e2ecd-0539-4518-9182-e5fdc3f31509",
   "metadata": {},
   "source": [
    "### Comparison Operators"
   ]
  },
  {
   "cell_type": "code",
   "execution_count": 138,
   "id": "6e21c8c3-575d-41f3-b99e-3117d735ec79",
   "metadata": {},
   "outputs": [
    {
     "name": "stdout",
     "output_type": "stream",
     "text": [
      "False\n",
      "True\n"
     ]
    }
   ],
   "source": [
    "a = 5\n",
    "b = 10\n",
    "# Equal to\n",
    "print(a == b)\n",
    "print(a != b)"
   ]
  },
  {
   "cell_type": "code",
   "execution_count": 140,
   "id": "ef81215e-c377-4598-885e-ca6e4cddc50b",
   "metadata": {},
   "outputs": [
    {
     "name": "stdout",
     "output_type": "stream",
     "text": [
      "False\n"
     ]
    }
   ],
   "source": [
    "# Greater that\n",
    "print(a > b)"
   ]
  },
  {
   "cell_type": "code",
   "execution_count": 144,
   "id": "6e40f966-1118-4666-9326-1f297f3bf511",
   "metadata": {},
   "outputs": [
    {
     "name": "stdout",
     "output_type": "stream",
     "text": [
      "True\n"
     ]
    }
   ],
   "source": [
    "# Less than\n",
    "print(a < b)"
   ]
  },
  {
   "cell_type": "code",
   "execution_count": 158,
   "id": "e8908c0b-2ee5-42af-aea8-c8bda7a6dd96",
   "metadata": {},
   "outputs": [
    {
     "name": "stdout",
     "output_type": "stream",
     "text": [
      "True\n"
     ]
    }
   ],
   "source": [
    "# Less than equal to\n",
    "print(3 <= 5)"
   ]
  },
  {
   "cell_type": "code",
   "execution_count": 170,
   "id": "5a5a0d48-9aca-40f6-87e2-836f4675dc96",
   "metadata": {},
   "outputs": [
    {
     "name": "stdout",
     "output_type": "stream",
     "text": [
      "True\n"
     ]
    }
   ],
   "source": [
    "# Greater than equal to\n",
    "print( 4 >= 1)"
   ]
  },
  {
   "cell_type": "markdown",
   "id": "15c080d6-fc16-4602-9ad7-62bd19ce9839",
   "metadata": {},
   "source": [
    "### Assignment Operator"
   ]
  },
  {
   "cell_type": "code",
   "execution_count": 188,
   "id": "219385ee-5b60-413f-9ad8-c362fc685489",
   "metadata": {},
   "outputs": [],
   "source": [
    "x = 3\n",
    "\n",
    "x = x + 3\n",
    "x += 3\n",
    "\n",
    "x = x - 3\n",
    "x -= 3\n",
    "\n",
    "x = x * 3\n",
    "x *= 3\n",
    "\n",
    "x = x / 3\n",
    "x /= 3\n",
    "\n",
    "x = x % 3\n",
    "x %= 3\n",
    "\n",
    "x = x ** 3\n",
    "x **= 3\n",
    "\n",
    "x = x // 3\n",
    "x //= 3"
   ]
  },
  {
   "cell_type": "code",
   "execution_count": null,
   "id": "f74d3292-960b-424c-8dab-6c874ba0d944",
   "metadata": {},
   "outputs": [],
   "source": []
  },
  {
   "cell_type": "code",
   "execution_count": 204,
   "id": "ea90a7fc-dbbb-43dc-b161-75e91464db1a",
   "metadata": {},
   "outputs": [
    {
     "name": "stdout",
     "output_type": "stream",
     "text": [
      "[2, [3, 4], 4.4, True, 6, 'Rajat']\n",
      "<class 'list'>\n"
     ]
    }
   ],
   "source": [
    "arr = [2, [3,4] , 4.4, True, 6, \"Rajat\"]\n",
    "print(arr)\n",
    "print(type(arr))"
   ]
  },
  {
   "cell_type": "code",
   "execution_count": 220,
   "id": "0e5ee4f2-34ad-49c1-a8ed-2691e19f3ec7",
   "metadata": {},
   "outputs": [
    {
     "name": "stdout",
     "output_type": "stream",
     "text": [
      "3\n"
     ]
    }
   ],
   "source": [
    "print(arr[1][0])"
   ]
  },
  {
   "cell_type": "markdown",
   "id": "749d95a6-8bb1-47ca-be8a-9100b3dcdb6b",
   "metadata": {},
   "source": [
    "Basic Variable Assignment:\n",
    "Write a Python program to assign the value 10 to a variable named x and print its value.\n",
    "\n",
    "Multiple Assignments:\n",
    "Assign the values 5, 10, and 15 to variables a, b, and c respectively in a single line, and print their values.\n",
    "\n",
    "Swapping Variables:\n",
    "Write a Python program to swap the values of two variables x and y without using a third variable.\n",
    "\n",
    "Arithmetic Operations:\n",
    "Create a program that takes two numbers as input and prints their sum, difference, product, and quotient.\n",
    "\n",
    "Compound Assignment Operators:\n",
    "Write a Python program to demonstrate the use of compound assignment operators (e.g., +=, -=, *=, /=) with a variable.\n",
    "\n",
    "String Concatenation:\n",
    "Assign the strings \"Hello\" and \"World\" to variables str1 and str2 respectively, concatenate them, and print the result.\n",
    "\n",
    "Boolean Variables:\n",
    "Create a program that assigns True to a variable is_active and False to a variable is_inactive, then print their values.\n",
    "\n",
    "Type Conversion:\n",
    "Write a Python program that converts an integer to a float and a float to an integer, then prints the results.\n",
    "\n",
    "Using input() Function:\n",
    "Create a program that asks the user for their name and age, stores these values in variables, and prints a message using these variables.\n",
    "\n",
    "Operator Precedence:\n",
    "Write a Python program to evaluate the expression 3 + 5 * 2 ** 2 and print the result. Explain the order of operations used."
   ]
  }
 ],
 "metadata": {
  "kernelspec": {
   "display_name": "Python 3 (ipykernel)",
   "language": "python",
   "name": "python3"
  },
  "language_info": {
   "codemirror_mode": {
    "name": "ipython",
    "version": 3
   },
   "file_extension": ".py",
   "mimetype": "text/x-python",
   "name": "python",
   "nbconvert_exporter": "python",
   "pygments_lexer": "ipython3",
   "version": "3.12.4"
  }
 },
 "nbformat": 4,
 "nbformat_minor": 5
}
